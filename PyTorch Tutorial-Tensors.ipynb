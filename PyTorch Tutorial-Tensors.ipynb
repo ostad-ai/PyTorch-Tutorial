{
 "cells": [
  {
   "cell_type": "markdown",
   "id": "cab4753a",
   "metadata": {},
   "source": [
    "# PyTorch Tutorial, Tensors:\n",
    "#### A closer view to Tensors in PyTorch\n",
    "- Using torch.tensor() to create Tensors\n",
    "- Tensor attributes\n",
    "- Device on which a Tensor is held\n",
    "- Similarity of Torch API to those of Numpy API\n",
    "- Tensors to Numpy arrays and vice versa\n",
    "- Indexing and slicing of Tensors\n",
    "- Example: creating a checkered pattern\n",
    "<br>https://github.com/ostad-ai/PyTorch-Tutorial"
   ]
  },
  {
   "cell_type": "code",
   "execution_count": 47,
   "id": "75354f9d",
   "metadata": {},
   "outputs": [],
   "source": [
    "import torch\n",
    "import numpy as np\n",
    "from matplotlib import pyplot as plt"
   ]
  },
  {
   "cell_type": "markdown",
   "id": "bb978c00",
   "metadata": {},
   "source": [
    "**Tensors** are special data structures similar to **multi-dimensional arrays** of Numpy. But they can be run on **CPUs**, **GPUs**, or other **hardware accelerators**.\n",
    "<br> We should use **torch.tensor(.)** for data initialization.\n",
    "<br> **Hint:** torch.Tensor is an alias for torch.FloatTensor"
   ]
  },
  {
   "cell_type": "code",
   "execution_count": 2,
   "id": "de3aaeb2",
   "metadata": {},
   "outputs": [
    {
     "name": "stdout",
     "output_type": "stream",
     "text": [
      "Shape: torch.Size([5])\n",
      "Type: torch.int64\n",
      "device:  cpu\n"
     ]
    }
   ],
   "source": [
    "# initialize a tensor and see its attributes:\n",
    "mytensor=torch.tensor([1,2,3,4,5])\n",
    "print('Shape:',mytensor.shape)\n",
    "print('Type:',mytensor.dtype)\n",
    "print('device: ',mytensor.device)"
   ]
  },
  {
   "cell_type": "markdown",
   "id": "c809a868",
   "metadata": {},
   "source": [
    "By default, **Tensors** are created on the **CPU**.\n",
    "<br>To change the device of a tensor we may use **tensor.to(device)** if we have a better device."
   ]
  },
  {
   "cell_type": "code",
   "execution_count": 6,
   "id": "5659fa70",
   "metadata": {},
   "outputs": [
    {
     "name": "stdout",
     "output_type": "stream",
     "text": [
      "Best device we have is: cuda\n",
      "New device of our tensor: cuda:0\n"
     ]
    }
   ],
   "source": [
    "device=(\"cuda\" if torch.cuda.is_available()\n",
    "         else \"mps\" if torch.backends.mps.is_available()\n",
    "         else \"cpu\")\n",
    "print('Best device we have is:',device)\n",
    "if device !='cpu':\n",
    "    mytensor=mytensor.to(device)\n",
    "    print('New device of our tensor:',mytensor.device)"
   ]
  },
  {
   "cell_type": "markdown",
   "id": "85bd25ad",
   "metadata": {},
   "source": [
    "**Torch API** are similar to those of **Numpy**"
   ]
  },
  {
   "cell_type": "code",
   "execution_count": 26,
   "id": "b22085da",
   "metadata": {},
   "outputs": [
    {
     "name": "stdout",
     "output_type": "stream",
     "text": [
      "A: tensor([[0.6335, 0.4491, 0.1028],\n",
      "        [0.5520, 0.9981, 0.7409]])\n",
      "B: tensor([[1., 1., 1.],\n",
      "        [1., 1., 0.]])\n",
      "--------\n",
      "Transpose of matrix A: tensor([[0.6335, 0.5520],\n",
      "        [0.4491, 0.9981],\n",
      "        [0.1028, 0.7409]])\n",
      "--------\n",
      "Element-wise multiplication: tensor([[0.6335, 0.4491, 0.1028],\n",
      "        [0.5520, 0.9981, 0.0000]])\n",
      "--------\n",
      "Matrix multiplication: tensor([[1.1854, 1.0826],\n",
      "        [2.2910, 1.5501]])\n"
     ]
    }
   ],
   "source": [
    "A=torch.rand(2,3)\n",
    "B=torch.ones(2,3)\n",
    "B[1,2]=0.\n",
    "print('A:',A)\n",
    "print('B:',B)\n",
    "print('--------\\nTranspose of matrix A:',A.T)\n",
    "print('--------\\nElement-wise multiplication:',A*B)\n",
    "print('--------\\nMatrix multiplication:',A@B.T)"
   ]
  },
  {
   "cell_type": "markdown",
   "id": "cf74765f",
   "metadata": {},
   "source": [
    "**Tensors** to **Numpy arrays**:\n",
    "<br>A tensor on the CPU with its numpy array can share the same memory locations. So changing of one of them will also apprear in the other one.\n",
    "<br> We use tensor.numpy() to change Tensor to numpy array"
   ]
  },
  {
   "cell_type": "code",
   "execution_count": 60,
   "id": "5ea6aacf",
   "metadata": {},
   "outputs": [
    {
     "name": "stdout",
     "output_type": "stream",
     "text": [
      "A as tensor, defined in torch:\n",
      " tensor([[ 1.5421, -0.6488,  0.2940],\n",
      "        [-0.2058, -1.5452, -0.8113]])\n",
      "A as numpy, taken from the tensor:\n",
      " [[ 1.5421147  -0.64884603  0.29404783]\n",
      " [-0.20581396 -1.5452236  -0.811262  ]]\n",
      "Sum of elements in tensor -1.3749830722808838\n",
      "Sum of elements in Numpy -1.3749831\n",
      "Type of A_np: float32\n",
      "Type of A_tensor: torch.float32\n"
     ]
    }
   ],
   "source": [
    "A_tensor=torch.randn(2,3)\n",
    "A_np=A_tensor.numpy()\n",
    "print('A as tensor, defined in torch:\\n',A_tensor)\n",
    "print('A as numpy, taken from the tensor:\\n',A_np)\n",
    "print('Sum of elements in tensor',A_tensor.sum().item())\n",
    "print('Sum of elements in Numpy',A_np.sum())\n",
    "print('Type of A_np:',A_np.dtype)\n",
    "print('Type of A_tensor:',A_tensor.dtype)"
   ]
  },
  {
   "cell_type": "markdown",
   "id": "f958d979",
   "metadata": {},
   "source": [
    "**Numpy arrays** to **Tensors**:<br>\n",
    "We employ tensor.from_numpy() to change Numpy to Tensor."
   ]
  },
  {
   "cell_type": "code",
   "execution_count": 94,
   "id": "888528b4",
   "metadata": {},
   "outputs": [
    {
     "name": "stdout",
     "output_type": "stream",
     "text": [
      "A, defined in numpy:\n",
      " [[-0.96534759 -0.66214201  1.49623715]\n",
      " [ 0.03792958 -0.43122767 -0.11764316]]\n",
      "A, taken from numpy:\n",
      " tensor([[-0.9653, -0.6621,  1.4962],\n",
      "        [ 0.0379, -0.4312, -0.1176]], dtype=torch.float64)\n",
      "---------\n",
      "Change in tensor A:\n",
      " tensor([[ 1.0000, -0.6621,  1.4962],\n",
      "        [ 1.0000, -0.4312, -0.1176]], dtype=torch.float64)\n",
      "A, in numpy, is also changed:\n",
      " [[ 1.         -0.66214201  1.49623715]\n",
      " [ 1.         -0.43122767 -0.11764316]]\n"
     ]
    }
   ],
   "source": [
    "A_np=np.random.randn(2,3)\n",
    "A_tensor=torch.from_numpy(A_np)\n",
    "print('A, defined in numpy:\\n',A_np)\n",
    "print('A, taken from numpy:\\n',A_tensor)\n",
    "print('---------')\n",
    "# changing the tensor will be reftected in the numpy array too\n",
    "A_tensor[:,0]=1\n",
    "print('Change in tensor A:\\n',A_tensor)\n",
    "print('A, in numpy, is also changed:\\n',A_np)"
   ]
  },
  {
   "cell_type": "markdown",
   "id": "d914cacc",
   "metadata": {},
   "source": [
    "**Indexing** and **slicing** of tensors:\n",
    "<br> They are similar to those of Numpy arrays."
   ]
  },
  {
   "cell_type": "code",
   "execution_count": 72,
   "id": "64ac6a0d",
   "metadata": {},
   "outputs": [
    {
     "name": "stdout",
     "output_type": "stream",
     "text": [
      "Slice of A:\n",
      " tensor([[1, 2],\n",
      "        [4, 5]])\n",
      "Second row of A:\n",
      " tensor([4, 5, 6])\n",
      "Last column of A:\n",
      " tensor([3, 6, 9])\n"
     ]
    }
   ],
   "source": [
    "A=torch.tensor([[1,2,3],\n",
    "                [4,5,6],\n",
    "                [7,8,9]])\n",
    "print('Slice of A:\\n',A[:2,:2])\n",
    "print('Second row of A:\\n',A[1,:])\n",
    "print('Last column of A:\\n',A[:,2])"
   ]
  },
  {
   "cell_type": "markdown",
   "id": "b1a9fa8e",
   "metadata": {},
   "source": [
    "An example with Tensors to create a **checkered pattern**"
   ]
  },
  {
   "cell_type": "code",
   "execution_count": 91,
   "id": "5bfd31f1",
   "metadata": {},
   "outputs": [
    {
     "data": {
      "image/png": "[encoded data removed]",
      "text/plain": [
       "<Figure size 432x288 with 1 Axes>"
      ]
     },
     "metadata": {
      "needs_background": "light"
     },
     "output_type": "display_data"
    }
   ],
   "source": [
    "rows,cols=10,10\n",
    "pattern=torch.ones(rows,cols,dtype=torch.uint8)*255\n",
    "for row in range(rows):\n",
    "    for col in range(cols):\n",
    "        if (row+col)%2==0:\n",
    "            pattern[row,col]=0\n",
    "plt.imshow(pattern,cmap='gray')\n",
    "plt.show()"
   ]
  },
  {
   "cell_type": "code",
   "execution_count": null,
   "id": "dc319c9e",
   "metadata": {},
   "outputs": [],
   "source": []
  }
 ],
 "metadata": {
  "kernelspec": {
   "display_name": "newtor",
   "language": "python",
   "name": "newtor"
  },
  "language_info": {
   "codemirror_mode": {
    "name": "ipython",
    "version": 3
   },
   "file_extension": ".py",
   "mimetype": "text/x-python",
   "name": "python",
   "nbconvert_exporter": "python",
   "pygments_lexer": "ipython3",
   "version": "3.6.12"
  }
 },
 "nbformat": 4,
 "nbformat_minor": 5
}
