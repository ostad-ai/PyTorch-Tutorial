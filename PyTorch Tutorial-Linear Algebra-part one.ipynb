{
 "cells": [
  {
   "cell_type": "markdown",
   "id": "cab4753a",
   "metadata": {},
   "source": [
    "# PyTorch Tutorial, Linear Algebra, part one:\n",
    "#### Vectors, matrices, multiplicatiosn, determinants, inverse of a matrix, eigenvalues, eigenvectors, and etc\n",
    "<br>https://github.com/ostad-ai/PyTorch-Tutorial"
   ]
  },
  {
   "cell_type": "code",
   "execution_count": 62,
   "id": "75354f9d",
   "metadata": {},
   "outputs": [],
   "source": [
    "import torch\n",
    "from torch import linalg"
   ]
  },
  {
   "cell_type": "markdown",
   "id": "bb978c00",
   "metadata": {},
   "source": [
    "A multi-dimensional array is called a **tensor** in PyTorch. Vectors, matrices, and arrays with higher dimensions are tensors."
   ]
  },
  {
   "cell_type": "markdown",
   "id": "99299252",
   "metadata": {},
   "source": [
    "For two vectors $a$ and $b$, the dot product is defined as:\n",
    "$a\\cdot b=\\sum_i a_ib_i$"
   ]
  },
  {
   "cell_type": "code",
   "execution_count": 131,
   "id": "de3aaeb2",
   "metadata": {},
   "outputs": [
    {
     "name": "stdout",
     "output_type": "stream",
     "text": [
      "Vector 1:  [1.0, 2.0, 3.0, 4.0, 5.0]\n",
      "Vector 2:  [1.0, 0.0, 1.0, 0.0, 1.0]\n",
      "Dot product: 9.0\n"
     ]
    }
   ],
   "source": [
    "# define a vector with Tensor\n",
    "vec1=torch.Tensor([1,2,3,4,5])\n",
    "vec2=torch.Tensor([1,0,1,0,1])\n",
    "print(\"Vector 1: \",vec1.tolist())\n",
    "print(\"Vector 2: \",vec2.tolist())\n",
    "print(\"Dot product:\",torch.dot(vec1,vec2).item())"
   ]
  },
  {
   "cell_type": "markdown",
   "id": "93d025d1",
   "metadata": {},
   "source": [
    "For a square matrix $A$, if $determinant(A)\\neq 0$, then we have the inverse matrix $A^{-1}$ such that $AA^{-1}=A^{-1}A=I$, where $I$ is the identity matrix."
   ]
  },
  {
   "cell_type": "code",
   "execution_count": 133,
   "id": "f0d8efcd",
   "metadata": {},
   "outputs": [
    {
     "name": "stdout",
     "output_type": "stream",
     "text": [
      "A: [[1.0, 2.0], [3.0, 4.0]]\n",
      "B: [[3.0, 1.0], [2.0, 5.0]]\n",
      "A*B: [[7.0, 11.0], [17.0, 23.0]]\n",
      "A+B: [[4.0, 3.0], [5.0, 9.0]]\n",
      "Determinant of A: -2.0\n",
      "Inverse of A: [[-2.0, 1.0], [1.5, -0.5]]\n",
      "A* A^-1: [[1.0, 0.0], [0.0, 1.0]]\n"
     ]
    }
   ],
   "source": [
    "# define a matrix with Tensor\n",
    "A=torch.Tensor([[1,2],[3,4]])\n",
    "B=torch.Tensor([[3,1],[2,5]])\n",
    "print('A:',A.tolist())\n",
    "print('B:',B.tolist())\n",
    "print('A*B:',(A@B).tolist()) # or torch.mm(A,B)\n",
    "print('A+B:',(A+B).tolist())\n",
    "print('Determinant of A:',linalg.det(A).item())\n",
    "print('Inverse of A:',linalg.inv(A).tolist())\n",
    "print('A* A^-1:',(A@linalg.inv(A)).tolist())"
   ]
  },
  {
   "cell_type": "markdown",
   "id": "93f24fa5",
   "metadata": {},
   "source": [
    "If $Ax=\\lambda x$, then $x$: an eigenvector, and $\\lambda$ is an eigenvalue."
   ]
  },
  {
   "cell_type": "code",
   "execution_count": 136,
   "id": "295c7a11",
   "metadata": {},
   "outputs": [
    {
     "name": "stdout",
     "output_type": "stream",
     "text": [
      "The square matrix: [[1.0, 2.0], [0.0, 3.0]]\n",
      "Eigenvalues:\n",
      " tensor([1.+0.j, 3.+0.j])\n",
      "Eigenvectors:\n",
      " tensor([[1.0000+0.j, 0.7071+0.j],\n",
      "        [0.0000+0.j, 0.7071+0.j]])\n",
      "--------------\n",
      "Sum of eigenvalues: (4+0j)\n",
      "Sum of digonal elements: 4.0\n",
      "--------------\n",
      "Product of eigenvalues: (3+0j)\n",
      "Determinant of matrix: 3.0\n"
     ]
    }
   ],
   "source": [
    "# a square matrix and its eigenvalues and eigenvectors\n",
    "A=torch.Tensor([[1,2],[0,3]])\n",
    "# getting eigenvalues and eigenvectors\n",
    "eigvals,eigvecs=linalg.eig(A)\n",
    "print('The square matrix:',A.tolist())\n",
    "print('Eigenvalues:\\n',eigvals)\n",
    "print('Eigenvectors:\\n',eigvecs)\n",
    "print('--------------')\n",
    "print('Sum of eigenvalues:',eigvals.sum().item())\n",
    "print('Sum of digonal elements:',A.diag().sum().item())\n",
    "print('--------------')\n",
    "print('Product of eigenvalues:',eigvals.prod().item())\n",
    "print('Determinant of matrix:',A.det().item())"
   ]
  },
  {
   "cell_type": "code",
   "execution_count": null,
   "id": "dc319c9e",
   "metadata": {},
   "outputs": [],
   "source": []
  }
 ],
 "metadata": {
  "kernelspec": {
   "display_name": "Python 3 (ipykernel)",
   "language": "python",
   "name": "python3"
  },
  "language_info": {
   "codemirror_mode": {
    "name": "ipython",
    "version": 3
   },
   "file_extension": ".py",
   "mimetype": "text/x-python",
   "name": "python",
   "nbconvert_exporter": "python",
   "pygments_lexer": "ipython3",
   "version": "3.11.1"
  }
 },
 "nbformat": 4,
 "nbformat_minor": 5
}
