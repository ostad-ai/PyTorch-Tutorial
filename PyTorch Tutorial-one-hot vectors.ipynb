{
 "cells": [
  {
   "cell_type": "markdown",
   "id": "cab4753a",
   "metadata": {},
   "source": [
    "# PyTorch Tutorial, one-hot vectors:\n",
    "#### labels into one-hot vectors \n",
    "- Download the iris dataset from the Internet, and extract its features and labels\n",
    "- Define a callable class for target-transform of labels into one-hot vectors\n",
    "- Use Lambda to define target-transforms\n",
    "\n",
    "https://github.com/ostad-ai/PyTorch-Tutorial"
   ]
  },
  {
   "cell_type": "code",
   "execution_count": 1,
   "id": "75354f9d",
   "metadata": {},
   "outputs": [],
   "source": [
    "# importing the necessary modules\n",
    "import torch\n",
    "from torchvision.transforms import Lambda\n",
    "from torch.utils.data import TensorDataset\n",
    "from urllib import request"
   ]
  },
  {
   "cell_type": "markdown",
   "id": "1c5e5ce0",
   "metadata": {},
   "source": [
    "We first download the irisi dataset from the specified address, as shown below:"
   ]
  },
  {
   "cell_type": "code",
   "execution_count": 2,
   "id": "6dc9d5f6",
   "metadata": {},
   "outputs": [],
   "source": [
    "# loading the Iris dataset\n",
    "file_url='https://raw.githubusercontent.com/ostad-ai/Machine-Learning/main/iris.csv'\n",
    "with request.urlopen(file_url) as file:\n",
    "    iris=file.read().decode('utf-8').splitlines()\n",
    "# to save in a file"
   ]
  },
  {
   "cell_type": "markdown",
   "id": "e17e59b7",
   "metadata": {},
   "source": [
    "Separating features and labels from the iris dataset. <br>\n",
    "We can give our data pair (features,labels) to **TensorDataset** to get in the form of **Dataset** in PyTorch."
   ]
  },
  {
   "cell_type": "code",
   "execution_count": 3,
   "id": "be83ed80",
   "metadata": {},
   "outputs": [],
   "source": [
    "def iris_features_labels(dataset):\n",
    "    header=[]; rows=[]\n",
    "    for line in dataset:\n",
    "        if line.strip():\n",
    "            if not header: header=line.split(',')\n",
    "            else: rows.append(line.split(','))   \n",
    "    features=[]; labels=[]\n",
    "    classes=list(set([row[4] for row in rows]))\n",
    "    for row in rows:\n",
    "        features.append([float(item) for item in row[:4]])\n",
    "        labels.append(classes.index(row[4]))\n",
    "    return features,labels,classes,header\n",
    "features,labels,classes,header=iris_features_labels(iris)\n",
    "# converting to tensors\n",
    "features_tn,labels_tn=torch.tensor(features),torch.tensor(labels)\n",
    "#converting to tensors\n",
    "xy=TensorDataset(features_tn,labels_tn)"
   ]
  },
  {
   "cell_type": "markdown",
   "id": "2c1f2e5b",
   "metadata": {},
   "source": [
    "Let's examine the labels and see how many unique labels we have, which denotes the number of classes.\n",
    "<br> The label of each data-pair $(features_i,label_i)$ comes from the set {0,1,2}.\n",
    "<br> But, we want to convert each integer label having value $k$ into a vector of size three, which is zero in all components except the $k$th component which becomes one. This vector is called **one-hot** vector."
   ]
  },
  {
   "cell_type": "code",
   "execution_count": 4,
   "id": "2dfb2edd",
   "metadata": {},
   "outputs": [
    {
     "name": "stdout",
     "output_type": "stream",
     "text": [
      "The classes are: [0, 1, 2]\n",
      "The number of classes: 3\n"
     ]
    }
   ],
   "source": [
    "xs,ys=xy[:]\n",
    "print(f'The classes are: {ys.unique().tolist()}')\n",
    "print(f'The number of classes: {len(ys.unique())}')"
   ]
  },
  {
   "cell_type": "markdown",
   "id": "47551227",
   "metadata": {},
   "source": [
    "For converting an integer label into a **one-hot** vector (assuming labels begin from zero, and we have $m$ classes):\n",
    "<br> if $label_i=k$ then one-hot$(label_i)=[c_0,c_1,...,c_k,...,c_{m-1}]^T$, such that $c_k=1$, and $c_j=0$ for all $j \\neq k$\n",
    "<br> We can write a **callable** class to define target-transform for converting labels into one-hot vectors.\n",
    "<br>For introduction of **callable classes**, you may see:\n",
    "<br>https://raw.githubusercontent.com/ostad-ai/Python-Everything/main/P-E-callable%20instances%20with%20__call__%20method.ipynb"
   ]
  },
  {
   "cell_type": "code",
   "execution_count": 5,
   "id": "e8482489",
   "metadata": {},
   "outputs": [],
   "source": [
    "# a callable class for defining target-transform\n",
    "class TargetTrans1Hot:\n",
    "    def __init__(self,Nclasses=0):\n",
    "        self.Nclasses=Nclasses\n",
    "    def __call__(self,y):\n",
    "        oneHot=torch.zeros(self.Nclasses,dtype=torch.float)\n",
    "        oneHot[y]=1\n",
    "        return oneHot\n",
    "#  number of classes in our dataset    \n",
    "Nclasses=len(set(labels))\n",
    "ttr1hot=TargetTrans1Hot(Nclasses)\n",
    "y1hot=torch.zeros(len(xy),3)\n",
    "#converting labels into one-hot vectors\n",
    "for i, label in enumerate(labels):\n",
    "    y1hot[i]=ttr1hot(label)\n",
    "# creating a dataset from features and one-hot vectors for labels\n",
    "xy1hot=TensorDataset(features_tn,y1hot)"
   ]
  },
  {
   "cell_type": "markdown",
   "id": "b7226123",
   "metadata": {},
   "source": [
    "Now, we check the difference beween features and labels before and after one-hot encoding of labels"
   ]
  },
  {
   "cell_type": "code",
   "execution_count": 6,
   "id": "beb4e837",
   "metadata": {},
   "outputs": [
    {
     "name": "stdout",
     "output_type": "stream",
     "text": [
      " A sample of original (feature,label): (tensor([6.3000, 2.7000, 4.9000, 1.8000]), tensor(0))\n",
      " A sample of (feature,one-hot): (tensor([6.3000, 2.7000, 4.9000, 1.8000]), tensor([1., 0., 0.]))\n"
     ]
    }
   ],
   "source": [
    "index=torch.randint(0,len(xy),(1,)).item()\n",
    "print(f' A sample of original (feature,label): {xy[index]}')\n",
    "print(f' A sample of (feature,one-hot): {xy1hot[index]}')"
   ]
  },
  {
   "cell_type": "markdown",
   "id": "bc50b3f4",
   "metadata": {},
   "source": [
    "Instead of defining a callable class for target-transform, we may use **Lambda** from **torchvision.transforms**.\n",
    "<br> In the cells below, we repeat converting labels into one-hot vectors, using Lambda"
   ]
  },
  {
   "cell_type": "code",
   "execution_count": 7,
   "id": "9d0a465b",
   "metadata": {},
   "outputs": [],
   "source": [
    "ttr1hot2=Lambda(lambda y:torch.zeros(Nclasses,dtype=torch.float).index_put([torch.tensor(y)],\n",
    "                                                                    values=torchtensor(1.)))\n",
    "y1hot2=torch.zeros(len(xy),3)\n",
    "#converting labels into one-hot vectors\n",
    "for i, label in enumerate(labels):\n",
    "    y1hot2[i]=ttr1hot(label)\n",
    "# creating a dataset from features and one-hot vectors for labels\n",
    "xy1hot2=TensorDataset(features_tn,y1hot2)"
   ]
  },
  {
   "cell_type": "code",
   "execution_count": 9,
   "id": "f8ec45d3",
   "metadata": {},
   "outputs": [
    {
     "name": "stdout",
     "output_type": "stream",
     "text": [
      " A sample of original (feature,label): (tensor([6.2000, 2.9000, 4.3000, 1.3000]), tensor(2))\n",
      " A sample of (feature,one-hot): (tensor([6.2000, 2.9000, 4.3000, 1.3000]), tensor([0., 0., 1.]))\n"
     ]
    }
   ],
   "source": [
    "index=torch.randint(0,len(xy),(1,)).item()\n",
    "print(f' A sample of original (feature,label): {xy[index]}')\n",
    "print(f' A sample of (feature,one-hot): {xy1hot2[index]}')"
   ]
  },
  {
   "cell_type": "code",
   "execution_count": null,
   "id": "894747a0",
   "metadata": {},
   "outputs": [],
   "source": []
  }
 ],
 "metadata": {
  "kernelspec": {
   "display_name": "Python 3 (ipykernel)",
   "language": "python",
   "name": "python3"
  },
  "language_info": {
   "codemirror_mode": {
    "name": "ipython",
    "version": 3
   },
   "file_extension": ".py",
   "mimetype": "text/x-python",
   "name": "python",
   "nbconvert_exporter": "python",
   "pygments_lexer": "ipython3",
   "version": "3.11.1"
  }
 },
 "nbformat": 4,
 "nbformat_minor": 5
}
